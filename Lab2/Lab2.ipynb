{
  "nbformat": 4,
  "nbformat_minor": 0,
  "metadata": {
    "colab": {
      "name": "Lab2.ipynb",
      "provenance": [],
      "collapsed_sections": [],
      "authorship_tag": "ABX9TyNYHwSjrzSUQP49vcmsYz9d",
      "include_colab_link": true
    },
    "kernelspec": {
      "name": "python3",
      "display_name": "Python 3"
    }
  },
  "cells": [
    {
      "cell_type": "markdown",
      "metadata": {
        "id": "view-in-github",
        "colab_type": "text"
      },
      "source": [
        "<a href=\"https://colab.research.google.com/github/sherylsqin/CE888_2020/blob/master/Lab2/Lab2.ipynb\" target=\"_parent\"><img src=\"https://colab.research.google.com/assets/colab-badge.svg\" alt=\"Open In Colab\"/></a>"
      ]
    },
    {
      "cell_type": "code",
      "metadata": {
        "id": "EZXyPLe-wSuw",
        "colab_type": "code",
        "colab": {}
      },
      "source": [
        "import matplotlib\n",
        "import pandas as pd\n",
        "import seaborn as sns\n",
        "import numpy as np"
      ],
      "execution_count": 0,
      "outputs": []
    },
    {
      "cell_type": "code",
      "metadata": {
        "id": "M2VZMulpwdbg",
        "colab_type": "code",
        "colab": {}
      },
      "source": [
        "# Load the data\n",
        "df = pd.read_csv('https://raw.githubusercontent.com/albanda/CE888/master/lab2%20-%20bootstrap/customers.csv')\n",
        "data = df.values.T[1]"
      ],
      "execution_count": 0,
      "outputs": []
    },
    {
      "cell_type": "code",
      "metadata": {
        "id": "vxcJOcm9wsU3",
        "colab_type": "code",
        "colab": {}
      },
      "source": [
        "# Checking the notes from the lecture, create here your own bootstrap function:\n",
        "# 1. Create an array of samples of shape (n_iterations, sample_size)\n",
        "# 2. Calculate and save the mean of the array (this is \"data_mean\" that is returned by the function)\n",
        "# 3. In each iteration:\n",
        "# 3.1 Get the data corresponding to that iteration (new_samples[iteration, :])\n",
        "# 3.2 Calculate the mean of the iteration data and store it\n",
        "# (At this point you should have an array of n_iterations values)\n",
        "# 4. Calculate the lower and upper bounds for a 95% CI (hint: check the percentile function on Numpy)\n",
        "# 5. Return data_mean, and the lower and upper bounds of your interval\n",
        "def boostrap_mean(sample, sample_size, n_iterations):\n",
        "    new_samples = np.random.choice(sample,(n_iterations,sample_size), replace = True)\n",
        "    data_mean = np.mean(new_samples)\n",
        "    mean_list=[]\n",
        "    for i in range(len(new_samples)):\n",
        "      up_sample = new_samples[i,:]\n",
        "      sample_mean=np.mean(up_sample)\n",
        "      mean_list.append(sample_mean) \n",
        "    alpha = 0.95\n",
        "    p = ((1.0-alpha)/2.0) * 100\n",
        "    lower = np.percentile(mean_list, p)\n",
        "    p = (alpha+((1.0-alpha)/2.0)) * 100\n",
        "    upper = np.percentile(mean_list, p)\n",
        "    \n",
        "    return data_mean, lower, upper"
      ],
      "execution_count": 0,
      "outputs": []
    },
    {
      "cell_type": "code",
      "metadata": {
        "id": "8kdebITMwvm3",
        "colab_type": "code",
        "outputId": "05e86ae5-5d82-48cf-e528-4880c5720b70",
        "colab": {
          "base_uri": "https://localhost:8080/",
          "height": 369
        }
      },
      "source": [
        "# Call your bootstrap function and plot the results\n",
        "\n",
        "boots = []\n",
        "\n",
        "alpha = 0.95\n",
        "for i in range(100, 100000, 1000):\n",
        "  boot = boostrap_mean(data, data.shape[0], i)\n",
        "  boots.append([i, boot[0], \"mean\"])\n",
        "  boots.append([i, boot[1], \"lower\"])\n",
        "  boots.append([i, boot[2], \"upper\"])\n",
        "\n",
        "df_boot = pd.DataFrame(boots, columns=['Boostrap Iterations', 'Mean', \"Value\"])\n",
        "sns_plot = sns.lmplot(df_boot.columns[0], df_boot.columns[1], data=df_boot, fit_reg=False, hue=\"Value\")\n",
        "\n",
        "sns_plot.axes[0, 0].set_ylim(0,)\n",
        "sns_plot.axes[0, 0].set_xlim(0, 100000)\n",
        "\n",
        "sns_plot.savefig(\"bootstrap_confidence.png\", bbox_inches='tight')\n",
        "sns_plot.savefig(\"bootstrap_confidence.pdf\", bbox_inches='tight')"
      ],
      "execution_count": 0,
      "outputs": [
        {
          "output_type": "display_data",
          "data": {
            "image/png": "[encoded data removed]",
            "text/plain": [
              "<Figure size 425.125x360 with 1 Axes>"
            ]
          },
          "metadata": {
            "tags": []
          }
        }
      ]
    },
    {
      "cell_type": "code",
      "metadata": {
        "id": "hEOeygjEIntK",
        "colab_type": "code",
        "colab": {}
      },
      "source": [
        "def boostrap_mean_ci(sample, sample_size, iterations, ci):\n",
        "    new_samples = np.random.choice(sample,(iterations,sample_size), replace = True)\n",
        "    data_mean = np.mean(new_samples)\n",
        "    mean_list=[]\n",
        "    for i in range(len(new_samples)):\n",
        "      up_sample = new_samples[i,:]\n",
        "      sample_mean=np.mean(up_sample)\n",
        "      mean_list.append(sample_mean) \n",
        "    alpha = ci/100\n",
        "    p = ((1.0-alpha)/2.0) * 100\n",
        "    lower = np.percentile(mean_list, p)\n",
        "    p = (alpha+((1.0-alpha)/2.0)) * 100\n",
        "    upper = np.percentile(mean_list, p)\n",
        "    return data_mean, lower, upper"
      ],
      "execution_count": 0,
      "outputs": []
    },
    {
      "cell_type": "code",
      "metadata": {
        "id": "MSQpBALgI4fY",
        "colab_type": "code",
        "outputId": "23bebfe2-bab5-4f80-b9ac-5de27819a6ad",
        "colab": {
          "base_uri": "https://localhost:8080/",
          "height": 369
        }
      },
      "source": [
        "boots = []\n",
        "for i in range(100, 100000, 1000): #start from 100 to 100,000 increase for 1,000 at a time each loop run eg. 1st is 100, 2nd is 1,100, 3rd is 2,100 etc.\n",
        "    boot = boostrap_mean_ci(data, data.shape[0], i, 80)\n",
        "    boots.append([i, boot[0], \"mean\"])\n",
        "    boots.append([i, boot[1], \"lower\"])\n",
        "    boots.append([i, boot[2], \"upper\"])\n",
        "\n",
        "df_boot = pd.DataFrame(boots, columns=['Boostrap Iterations', 'Mean', \"Value\"])\n",
        "sns_plot = sns.lmplot(df_boot.columns[0], df_boot.columns[1], data=df_boot, fit_reg=False, hue=\"Value\")\n",
        "\n",
        "sns_plot.axes[0, 0].set_ylim(0,)\n",
        "sns_plot.axes[0, 0].set_xlim(0, 100000)\n",
        "\n",
        "sns_plot.savefig(\"bootstrap_confidence_80.png\", bbox_inches='tight')\n",
        "sns_plot.savefig(\"bootstrap_confidence_80.pdf\", bbox_inches='tight')"
      ],
      "execution_count": 0,
      "outputs": [
        {
          "output_type": "display_data",
          "data": {
            "image/png": "[encoded data removed]",
            "text/plain": [
              "<Figure size 425.125x360 with 1 Axes>"
            ]
          },
          "metadata": {
            "tags": []
          }
        }
      ]
    },
    {
      "cell_type": "code",
      "metadata": {
        "id": "eugdjnwdQbC0",
        "colab_type": "code",
        "colab": {}
      },
      "source": [
        "def get_p_value(p_old, p_new, iteration):\n",
        "    i, k = len(p_old), 0\n",
        "    diff = np.abs(np.mean(p_old) - np.mean(p_new))\n",
        "    new_concat = np.concatenate([p_old, p_new])\n",
        "    for j in range(iteration):\n",
        "        np.random.choice(new_concat)\n",
        "        k += diff < np.abs(np.mean(new_concat[:i]) - np.mean(new_concat[i:]))\n",
        "    return (k/iteration)"
      ],
      "execution_count": 0,
      "outputs": []
    },
    {
      "cell_type": "code",
      "metadata": {
        "id": "KZ7w1foONgui",
        "colab_type": "code",
        "outputId": "c3d26e1c-ec67-4cea-c655-be5c981bda40",
        "colab": {
          "base_uri": "https://localhost:8080/",
          "height": 34
        }
      },
      "source": [
        "df = pd.read_csv(\"https://raw.githubusercontent.com/albanda/CE888/master/lab2%20-%20bootstrap/vehicles.csv\")\n",
        "col1_df = df.values.T[0]\n",
        "col2_df = df.values.T[1]\n",
        "\n",
        "up_col2_df = col2_df[np.logical_not(np.isnan(col2_df))]\n",
        "\n",
        "def_concat = np.concatenate((col1_df,up_col2_df))\n",
        "\n",
        "ori_pold = def_concat[:int(len(def_concat)-79)]\n",
        "ori_pnew = def_concat[int(len(def_concat)-79):]\n",
        "\n",
        "p_value = get_p_value(ori_pold, ori_pnew, 100000)\n",
        "\n",
        "print(p_value)\n"
      ],
      "execution_count": 20,
      "outputs": [
        {
          "output_type": "stream",
          "text": [
            "0.0\n"
          ],
          "name": "stdout"
        }
      ]
    },
    {
      "cell_type": "code",
      "metadata": {
        "id": "Q_xcCzxQVNYk",
        "colab_type": "code",
        "colab": {}
      },
      "source": [
        ""
      ],
      "execution_count": 0,
      "outputs": []
    }
  ]
}