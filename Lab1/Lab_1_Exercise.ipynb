{
  "nbformat": 4,
  "nbformat_minor": 0,
  "metadata": {
    "colab": {
      "name": "Lab 1 Exercise",
      "provenance": [],
      "collapsed_sections": [],
      "authorship_tag": "ABX9TyMelHdSZ/192MKyI1v22EGH",
      "include_colab_link": true
    },
    "kernelspec": {
      "name": "python3",
      "display_name": "Python 3"
    },
    "accelerator": "GPU"
  },
  "cells": [
    {
      "cell_type": "markdown",
      "metadata": {
        "id": "view-in-github",
        "colab_type": "text"
      },
      "source": [
        "<a href=\"https://colab.research.google.com/github/sherylsqin/CE888_2020/blob/master/Lab1/Lab_1_Exercise.ipynb\" target=\"_parent\"><img src=\"https://colab.research.google.com/assets/colab-badge.svg\" alt=\"Open In Colab\"/></a>"
      ]
    },
    {
      "cell_type": "code",
      "metadata": {
        "id": "SdUzn0Lr1MaS",
        "colab_type": "code",
        "colab": {}
      },
      "source": [
        "import matplotlib.pyplot as plt\n",
        "import numpy as np"
      ],
      "execution_count": 0,
      "outputs": []
    },
    {
      "cell_type": "code",
      "metadata": {
        "id": "Y1gsOq81zkSt",
        "colab_type": "code",
        "colab": {
          "base_uri": "https://localhost:8080/",
          "height": 68
        },
        "outputId": "22502b17-6d0a-4695-ac9f-1da118129c97"
      },
      "source": [
        "#Create a (4 x 2) integer array and print it's attributes\n",
        "\n",
        "int_array = np.array([[ 1, 2, 3, 4],\n",
        "              [5,6,7,8]])\n",
        "\n",
        "print(\"Array 4x2\\n\", int_array)"
      ],
      "execution_count": 4,
      "outputs": [
        {
          "output_type": "stream",
          "text": [
            "Array 4x2\n",
            " [[1 2 3 4]\n",
            " [5 6 7 8]]\n"
          ],
          "name": "stdout"
        }
      ]
    },
    {
      "cell_type": "code",
      "metadata": {
        "id": "JvSWLMTw1k0d",
        "colab_type": "code",
        "colab": {
          "base_uri": "https://localhost:8080/",
          "height": 51
        },
        "outputId": "0a9a88e6-60e2-442f-cdd6-a86f88602fd6"
      },
      "source": [
        "#Create an array of dimension (1,10) and sort it in ascending and descending order\n",
        "\n",
        "array10 = np.array([[7],[9],[3],[4],[1],[8],[5],[2],[6],[10]])\n",
        "\n",
        "sorted_asc = np.sort(array10, axis=None)\n",
        "\n",
        "sorted_des = np.sort(array10, axis=None)\n",
        "\n",
        "print(\"Ascending Sort\",sorted_asc)\n",
        "\n",
        "print(\"Descending Sort\",-np.sort(-sorted_des))"
      ],
      "execution_count": 14,
      "outputs": [
        {
          "output_type": "stream",
          "text": [
            "Ascending Sort [ 1  2  3  4  5  6  7  8  9 10]\n",
            "Descending Sort [10  9  8  7  6  5  4  3  2  1]\n"
          ],
          "name": "stdout"
        }
      ]
    },
    {
      "cell_type": "code",
      "metadata": {
        "id": "jwxXgZvx5Fh6",
        "colab_type": "code",
        "colab": {
          "base_uri": "https://localhost:8080/",
          "height": 68
        },
        "outputId": "37b0ba44-a3d9-4e3d-c376-8ef9599a01c7"
      },
      "source": [
        "#Convert an 1D array [1 2 3 4 5 6 7 8 9] to 2D array [[1 2 3], [4 5 6], [7 8 9]]\n",
        "\n",
        "first_array = [1,2,3,4,5,6,7,8,9]\n",
        "\n",
        "array_2d = np.reshape(first_array,(-1,3))\n",
        "\n",
        "print(\"2D Array\",array_2d  )\n",
        "\n",
        "\n",
        "\n"
      ],
      "execution_count": 16,
      "outputs": [
        {
          "output_type": "stream",
          "text": [
            "2D Array [[1 2 3]\n",
            " [4 5 6]\n",
            " [7 8 9]]\n"
          ],
          "name": "stdout"
        }
      ]
    },
    {
      "cell_type": "code",
      "metadata": {
        "id": "lH35UGTG6JX_",
        "colab_type": "code",
        "colab": {
          "base_uri": "https://localhost:8080/",
          "height": 85
        },
        "outputId": "f683284d-86b6-431c-9faf-75e7e9daa146"
      },
      "source": [
        "#Stack two arrays of any size horizontally and vertically\n",
        "\n",
        "\n",
        "first_array = np.array([[1, 2], [3, 4]])\n",
        "\n",
        "second_array = np.array([[5, 6]])\n",
        "\n",
        "vertical_array = np.concatenate((first_array, second_array),axis=0)\n",
        "\n",
        "horizontal_array = np.concatenate((first_array, second_array),axis=None)\n",
        "\n",
        "print(\"Vertical\",vertical_array)\n",
        "\n",
        "print(\"Horizontal\", horizontal_array)"
      ],
      "execution_count": 30,
      "outputs": [
        {
          "output_type": "stream",
          "text": [
            "Vertical [[1 2]\n",
            " [3 4]\n",
            " [5 6]]\n",
            "Horizontal [1 2 3 4 5 6]\n"
          ],
          "name": "stdout"
        }
      ]
    },
    {
      "cell_type": "code",
      "metadata": {
        "id": "yEKT_AqU9Fz6",
        "colab_type": "code",
        "colab": {
          "base_uri": "https://localhost:8080/",
          "height": 34
        },
        "outputId": "118e7f1a-df10-4e6a-aee0-2533b6c527fb"
      },
      "source": [
        "#Create two array of same size and find commom elements\n",
        "\n",
        "first_array = np.array([[1, 2], [3, 5]])\n",
        "\n",
        "second_array = np.array([[5, 1],[7, 8]])\n",
        "\n",
        "common_element =np.intersect1d(first_array, second_array)\n",
        "\n",
        "print(\"Common Element\",common_element)\n",
        "\n"
      ],
      "execution_count": 33,
      "outputs": [
        {
          "output_type": "stream",
          "text": [
            "Common Element [1 5]\n"
          ],
          "name": "stdout"
        }
      ]
    },
    {
      "cell_type": "code",
      "metadata": {
        "id": "EB53EmOU-GMn",
        "colab_type": "code",
        "colab": {
          "base_uri": "https://localhost:8080/",
          "height": 238
        },
        "outputId": "4efda588-e10b-4483-8455-36cd4231ac1f"
      },
      "source": [
        "#Create a 2D array of 5 by 5 and find the min and max values from each row and each column\n",
        "\n",
        "first_array = np.array([[1,6,12,4,99],[2,7,8,9,10],[3,8,9,14,32],[4,10,18,19,20],[5,11,23,24,25]])\n",
        "\n",
        "print(first_array )\n",
        "\n",
        "min_row = np.amin(first_array, axis=0)\n",
        "\n",
        "print(\"\\nMinimum of each row\",min_row)\n",
        "\n",
        "min_col = np.amin(first_array, axis=1)\n",
        "\n",
        "print(\"\\nMinimum of each column\",min_col)\n",
        "\n",
        "max_row = np.amax(first_array, axis=0)\n",
        "\n",
        "print(\"\\nMaximum of each row\",max_row)\n",
        "\n",
        "max_col = np.amax(first_array, axis=1)\n",
        "\n",
        "print(\"\\nMaximum of each column\",max_col)\n"
      ],
      "execution_count": 43,
      "outputs": [
        {
          "output_type": "stream",
          "text": [
            "[[ 1  6 12  4 99]\n",
            " [ 2  7  8  9 10]\n",
            " [ 3  8  9 14 32]\n",
            " [ 4 10 18 19 20]\n",
            " [ 5 11 23 24 25]]\n",
            "\n",
            "Minimum of each row [ 1  6  8  4 10]\n",
            "\n",
            "Minimum of each column [1 2 3 4 5]\n",
            "\n",
            "Maximum of each row [ 5 11 23 24 99]\n",
            "\n",
            "Maximum of each column [99 10 32 20 25]\n"
          ],
          "name": "stdout"
        }
      ]
    },
    {
      "cell_type": "code",
      "metadata": {
        "id": "npQ5gmgDAZzp",
        "colab_type": "code",
        "colab": {
          "base_uri": "https://localhost:8080/",
          "height": 221
        },
        "outputId": "9555586f-2211-41ef-df26-e6cd331aedcf"
      },
      "source": [
        "#Create an array of size 100 and compute the mean, median, standard deviation\n",
        "\n",
        "rand_list = np.random.randint(200, size=(1,100))\n",
        "\n",
        "print(rand_list)\n",
        "\n",
        "mean = np.mean(rand_list)\n",
        "\n",
        "print(\"\\nMean\", mean)\n",
        "\n",
        "median = np.median(rand_list)\n",
        "\n",
        "print(\"\\nMedian\",median)\n",
        "\n",
        "std = np.std(rand_list)\n",
        "\n",
        "print(\"\\nStandard\",std)\n",
        "\n"
      ],
      "execution_count": 57,
      "outputs": [
        {
          "output_type": "stream",
          "text": [
            "[[157  45  37  38  14  75  20  14 174 108 130 103  98  89 123 135 135  40\n",
            "   10 148  87 134 168 164   1 177 193  27 170 130 144  99  72 115  96  36\n",
            "    4  31  41  81  91  18 177  43 107  12  61 147  81 168  86 169 165 192\n",
            "  163   2  54 162 161 138 157  82 167  55  40 197  29 164 114 130 164  36\n",
            "   30   2 126  36 109  90  54 120  42  62  14  18  30 114 117  13  89  14\n",
            "  100 175  91 162  43 104  80 107  12 179]]\n",
            "\n",
            "Mean 93.28\n",
            "\n",
            "Median 93.5\n",
            "\n",
            "Standard 57.47626988592771\n"
          ],
          "name": "stdout"
        }
      ]
    },
    {
      "cell_type": "code",
      "metadata": {
        "id": "0MiM-9JfCsXp",
        "colab_type": "code",
        "colab": {
          "base_uri": "https://localhost:8080/",
          "height": 136
        },
        "outputId": "068014be-4e69-458d-f217-a9f8d4941a98"
      },
      "source": [
        "#Normalize a 5x5 random matrix\n",
        "\n",
        "rand_list = np.random.randint(100, size=(5,5))\n",
        "\n",
        "print(rand_list)\n",
        "\n",
        "norm=np.linalg.norm(rand_list, ord=1)\n",
        "\n",
        "\n",
        "print(\"\\nNormalise\",norm)"
      ],
      "execution_count": 62,
      "outputs": [
        {
          "output_type": "stream",
          "text": [
            "[[20 34 10 19  4]\n",
            " [63 94 49 22 47]\n",
            " [54 50 24 98 12]\n",
            " [28 94 54 55 89]\n",
            " [87 64 49 67 98]]\n",
            "\n",
            "Normalise 336.0\n"
          ],
          "name": "stdout"
        }
      ]
    },
    {
      "cell_type": "code",
      "metadata": {
        "id": "nY8Xv7wlD-AC",
        "colab_type": "code",
        "colab": {
          "base_uri": "https://localhost:8080/",
          "height": 833
        },
        "outputId": "2f0ff129-e546-4cec-8380-1ac784017549"
      },
      "source": [
        "#Consider an array of dimension (4,4,3), how to mulitply it by an array with dimensions (4,4)\n",
        "\n",
        "rand_1 = np.random.randint(5, size=(4,4,3))\n",
        "\n",
        "print(\"\\nMatrix 4 x 4 x 3\\n\",rand_1)\n",
        "\n",
        "rand_2 = np.random.randint(5, size=(4,4))\n",
        "\n",
        "print(\"\\nMatrix 4 x 4\\n\",rand_2)\n",
        "\n",
        "multi = np.dot(rand_2,rand_1)\n",
        "\n",
        "print(\"\\nMultiply\\n\",multi)\n"
      ],
      "execution_count": 73,
      "outputs": [
        {
          "output_type": "stream",
          "text": [
            "\n",
            "Matrix 4 x 4 x 3\n",
            " [[[4 4 4]\n",
            "  [4 3 1]\n",
            "  [0 3 4]\n",
            "  [4 4 2]]\n",
            "\n",
            " [[0 4 1]\n",
            "  [3 0 0]\n",
            "  [0 1 3]\n",
            "  [0 3 3]]\n",
            "\n",
            " [[4 0 1]\n",
            "  [0 1 1]\n",
            "  [4 1 2]\n",
            "  [0 4 0]]\n",
            "\n",
            " [[0 1 0]\n",
            "  [4 0 0]\n",
            "  [1 1 4]\n",
            "  [1 4 1]]]\n",
            "\n",
            "Matrix 4 x 4\n",
            " [[2 2 4 0]\n",
            " [3 3 2 3]\n",
            " [3 1 1 2]\n",
            " [2 0 0 0]]\n",
            "\n",
            "Multiply\n",
            " [[[16 26 26]\n",
            "  [ 6 12 14]\n",
            "  [24  6 12]\n",
            "  [12  6 16]]\n",
            "\n",
            " [[36 39 29]\n",
            "  [ 9 23 18]\n",
            "  [20 17 10]\n",
            "  [17 17 11]]\n",
            "\n",
            " [[24 26 21]\n",
            "  [ 3 19 12]\n",
            "  [16 10  6]\n",
            "  [ 7 12  6]]\n",
            "\n",
            " [[ 8  8  8]\n",
            "  [ 0  8  2]\n",
            "  [ 8  0  2]\n",
            "  [ 0  2  0]]]\n"
          ],
          "name": "stdout"
        }
      ]
    }
  ]
}